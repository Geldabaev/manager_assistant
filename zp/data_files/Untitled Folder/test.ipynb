{
 "cells": [
  {
   "cell_type": "code",
   "execution_count": 558,
   "outputs": [],
   "source": [
    "n = input().split(\" \")"
   ],
   "metadata": {
    "collapsed": false,
    "ExecuteTime": {
     "end_time": "2023-09-22T13:07:17.190389725Z",
     "start_time": "2023-09-22T13:07:13.973580577Z"
    }
   },
   "id": "92c3b3ea2a5c1b36"
  },
  {
   "cell_type": "code",
   "execution_count": 62,
   "outputs": [],
   "source": [],
   "metadata": {
    "collapsed": false,
    "ExecuteTime": {
     "end_time": "2023-09-22T18:02:04.410078330Z",
     "start_time": "2023-09-22T18:02:04.312861144Z"
    }
   },
   "id": "998f4bc84f353c05"
  }
 ],
 "metadata": {
  "kernelspec": {
   "display_name": "Python 3 (ipykernel)",
   "language": "python",
   "name": "python3"
  },
  "language_info": {
   "codemirror_mode": {
    "name": "ipython",
    "version": 3
   },
   "file_extension": ".py",
   "mimetype": "text/x-python",
   "name": "python",
   "nbconvert_exporter": "python",
   "pygments_lexer": "ipython3",
   "version": "3.11.4"
  }
 },
 "nbformat": 4,
 "nbformat_minor": 5
}
