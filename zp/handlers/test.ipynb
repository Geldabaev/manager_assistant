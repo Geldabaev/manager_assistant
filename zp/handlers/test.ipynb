{
 "cells": [
  {
   "cell_type": "code",
   "execution_count": 1,
   "id": "initial_id",
   "metadata": {
    "collapsed": true,
    "ExecuteTime": {
     "end_time": "2023-09-14T10:03:12.981040263Z",
     "start_time": "2023-09-14T10:03:12.970933168Z"
    }
   },
   "outputs": [],
   "source": [
    "n = {'yunus': 'geldabaev'}"
   ]
  },
  {
   "cell_type": "code",
   "execution_count": 2,
   "outputs": [],
   "source": [
    "x = n.keys()"
   ],
   "metadata": {
    "collapsed": false,
    "ExecuteTime": {
     "end_time": "2023-09-14T10:03:15.515877342Z",
     "start_time": "2023-09-14T10:03:15.500745101Z"
    }
   },
   "id": "3c82e6e32f9ad6ac"
  },
  {
   "cell_type": "code",
   "execution_count": 3,
   "outputs": [
    {
     "data": {
      "text/plain": "dict_keys(['yunus'])"
     },
     "execution_count": 3,
     "metadata": {},
     "output_type": "execute_result"
    }
   ],
   "source": [
    "x"
   ],
   "metadata": {
    "collapsed": false,
    "ExecuteTime": {
     "end_time": "2023-09-14T10:03:16.330054700Z",
     "start_time": "2023-09-14T10:03:16.302888543Z"
    }
   },
   "id": "64b7a7e1c3d172ea"
  },
  {
   "cell_type": "code",
   "execution_count": 15,
   "outputs": [],
   "source": [
    "x = list(x)[0]"
   ],
   "metadata": {
    "collapsed": false,
    "ExecuteTime": {
     "end_time": "2023-09-14T10:04:33.074833001Z",
     "start_time": "2023-09-14T10:04:33.064153157Z"
    }
   },
   "id": "5bc339c44df59994"
  },
  {
   "cell_type": "code",
   "execution_count": 16,
   "outputs": [],
   "source": [
    "www = []"
   ],
   "metadata": {
    "collapsed": false,
    "ExecuteTime": {
     "end_time": "2023-09-14T10:04:34.050820188Z",
     "start_time": "2023-09-14T10:04:34.043475224Z"
    }
   },
   "id": "d52e930d614b14ad"
  },
  {
   "cell_type": "code",
   "execution_count": 19,
   "outputs": [],
   "source": [
    "www.extend(x)"
   ],
   "metadata": {
    "collapsed": false,
    "ExecuteTime": {
     "end_time": "2023-09-14T10:04:41.770789264Z",
     "start_time": "2023-09-14T10:04:41.759550251Z"
    }
   },
   "id": "f324cc18a28bf1f8"
  },
  {
   "cell_type": "code",
   "execution_count": 20,
   "outputs": [
    {
     "data": {
      "text/plain": "['yunus', 'y', 'u', 'n', 'u', 's']"
     },
     "execution_count": 20,
     "metadata": {},
     "output_type": "execute_result"
    }
   ],
   "source": [
    "www"
   ],
   "metadata": {
    "collapsed": false,
    "ExecuteTime": {
     "end_time": "2023-09-14T10:04:42.291861723Z",
     "start_time": "2023-09-14T10:04:42.287047750Z"
    }
   },
   "id": "277e625d1dbca4"
  },
  {
   "cell_type": "code",
   "execution_count": null,
   "outputs": [],
   "source": [],
   "metadata": {
    "collapsed": false
   },
   "id": "75fb91c91007ed71"
  }
 ],
 "metadata": {
  "kernelspec": {
   "display_name": "Python 3",
   "language": "python",
   "name": "python3"
  },
  "language_info": {
   "codemirror_mode": {
    "name": "ipython",
    "version": 2
   },
   "file_extension": ".py",
   "mimetype": "text/x-python",
   "name": "python",
   "nbconvert_exporter": "python",
   "pygments_lexer": "ipython2",
   "version": "2.7.6"
  }
 },
 "nbformat": 4,
 "nbformat_minor": 5
}
